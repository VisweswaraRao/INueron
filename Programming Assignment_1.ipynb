{
 "cells": [
  {
   "cell_type": "code",
   "execution_count": 1,
   "metadata": {},
   "outputs": [
    {
     "name": "stdout",
     "output_type": "stream",
     "text": [
      "Hello Python\n"
     ]
    }
   ],
   "source": [
    "#Write a Python program to print \"Hello Python\"?\n",
    "print(\"Hello Python\")"
   ]
  },
  {
   "cell_type": "code",
   "execution_count": 4,
   "metadata": {},
   "outputs": [
    {
     "name": "stdout",
     "output_type": "stream",
     "text": [
      "30\n",
      "2.0\n"
     ]
    }
   ],
   "source": [
    "#Write a Python program to do arithmetical operations addition and division.?\n",
    "a=10\n",
    "b=20\n",
    "print(a+b)\n",
    "print(b/a)"
   ]
  },
  {
   "cell_type": "code",
   "execution_count": 7,
   "metadata": {},
   "outputs": [
    {
     "name": "stdout",
     "output_type": "stream",
     "text": [
      "Enter the first number:20\n",
      "Enter the Second number:10\n",
      "30\n",
      "2.0\n"
     ]
    }
   ],
   "source": [
    "#Write a Python program to do arithmetical operations addition and division.?\n",
    "a= int(input('Enter the first number:'))\n",
    "b= int(input('Enter the Second number:'))\n",
    "c= a + b\n",
    "d = a / b\n",
    "print(c)\n",
    "print(d)"
   ]
  },
  {
   "cell_type": "code",
   "execution_count": 12,
   "metadata": {},
   "outputs": [
    {
     "name": "stdout",
     "output_type": "stream",
     "text": [
      "Enter the first Side of triangle:4\n",
      "Enter the Second Side of triangle:5\n",
      "Enter the Third Side of triangle:6\n",
      "The area of the triangle is 9.92\n"
     ]
    }
   ],
   "source": [
    "#Write a Python program to find the area of a triangle?\n",
    "a= float(input('Enter the first Side of triangle:'))\n",
    "b= float(input('Enter the Second Side of triangle:'))\n",
    "c= float(input('Enter the Third Side of triangle:'))\n",
    "\n",
    "s= (a+b+c)/2\n",
    "\n",
    "area = (s*(s-a)*(s-b)*(s-c)) ** 0.5  \n",
    "print('The area of the triangle is %0.2f' %area)"
   ]
  },
  {
   "cell_type": "code",
   "execution_count": 15,
   "metadata": {},
   "outputs": [
    {
     "name": "stdout",
     "output_type": "stream",
     "text": [
      "Afer swap a value is:20\n",
      "Afer swap b value is:10\n"
     ]
    }
   ],
   "source": [
    "#Write a Python program to swap two variables?\n",
    "a =10\n",
    "b =20\n",
    "\n",
    "temp =a\n",
    "a= b\n",
    "b=temp\n",
    "\n",
    "print(\"Afer swap a value is:{}\" .format(a))\n",
    "print(\"Afer swap b value is:{}\" .format(b))\n"
   ]
  },
  {
   "cell_type": "code",
   "execution_count": 18,
   "metadata": {},
   "outputs": [
    {
     "name": "stdout",
     "output_type": "stream",
     "text": [
      "Enter first Number:45\n",
      "Enter Second Number:100\n",
      "57\n"
     ]
    }
   ],
   "source": [
    "# Write a Python program to generate a random number?\n",
    "import random  \n",
    "a  = int(input(\"Enter first Number:\"))\n",
    "b  = int(input(\"Enter Second Number:\"))\n",
    "print(random.randint(a,b))  \n"
   ]
  },
  {
   "cell_type": "code",
   "execution_count": null,
   "metadata": {},
   "outputs": [],
   "source": []
  }
 ],
 "metadata": {
  "kernelspec": {
   "display_name": "Python 3",
   "language": "python",
   "name": "python3"
  },
  "language_info": {
   "codemirror_mode": {
    "name": "ipython",
    "version": 3
   },
   "file_extension": ".py",
   "mimetype": "text/x-python",
   "name": "python",
   "nbconvert_exporter": "python",
   "pygments_lexer": "ipython3",
   "version": "3.8.5"
  }
 },
 "nbformat": 4,
 "nbformat_minor": 4
}
